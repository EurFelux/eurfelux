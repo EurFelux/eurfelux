{
 "cells": [
  {
   "cell_type": "code",
   "execution_count": null,
   "metadata": {},
   "outputs": [],
   "source": [
    "from typing import Callable\n",
    "import time\n",
    "\n",
    "def my_decorator(func: Callable):\n",
    "    def wrapper():\n",
    "        print(f\"Something was done before {func.__name__} was executed.\")\n",
    "        func()\n",
    "        print(f\"Something was done after {func.__name__} was executed.\")\n",
    "    return wrapper\n",
    "\n",
    "def timer(func: Callable):\n",
    "    def wrapper():\n",
    "        time_0 = time.time()\n",
    "        func()\n",
    "        time_1 = time.time()\n",
    "        print(f\"{func.__name__} took {(time_1 - time_0):.2f} seconds to execute.\")\n",
    "    return wrapper\n",
    "\n",
    "@my_decorator\n",
    "def hello_world_1():\n",
    "    print(\"hello world!\")\n",
    "\n",
    "@timer\n",
    "def hello_world_2():\n",
    "    tmp = 0\n",
    "    # waste time\n",
    "    for i in range(114514810):\n",
    "        tmp += i\n",
    "    print(\"hello world!\")\n",
    "\n",
    "if __name__ == '__main__':\n",
    "    hello_world_1()\n",
    "    hello_world_2()"
   ]
  },
  {
   "cell_type": "code",
   "execution_count": 8,
   "metadata": {},
   "outputs": [
    {
     "name": "stdout",
     "output_type": "stream",
     "text": [
      "Positional Args:\n",
      "    YAJU\n",
      "Keyword Args:\n",
      "    msg=&U\n",
      "Hello, world!\n",
      "Return Value: Over!\n"
     ]
    }
   ],
   "source": [
    "# decorator of func with any args\n",
    "from typing import Optional, Callable\n",
    "\n",
    "\n",
    "def deco_args(func: Callable):\n",
    "    def wrapper(*args, **kwargs):\n",
    "        print(\"Positional Args:\")\n",
    "        for arg in args:\n",
    "            print(f\"    {arg}\")\n",
    "        print(\"Keyword Args:\")\n",
    "        for k, v in kwargs.items():\n",
    "            print(f\"    {k}={v}\")\n",
    "        ret = func()\n",
    "        print(f\"Return Value: {ret}\")\n",
    "    return wrapper\n",
    "\n",
    "\n",
    "@deco_args\n",
    "def hello_world_3(name: str = \"world\", *, msg: Optional[str] = None):\n",
    "    print(f\"Hello, {name}!\")\n",
    "    if msg is not None:\n",
    "        print(msg)\n",
    "    return \"Over!\"\n",
    "\n",
    "\n",
    "hello_world_3(\"YAJU\", msg=\"&U\")"
   ]
  },
  {
   "cell_type": "code",
   "execution_count": 10,
   "metadata": {},
   "outputs": [
    {
     "name": "stdout",
     "output_type": "stream",
     "text": [
      "test_1\n",
      "wrapper\n"
     ]
    }
   ],
   "source": [
    "# metadata problem\n",
    "from functools import wraps\n",
    "\n",
    "def deco_with_wraps(func): \n",
    "    @wraps(func)\n",
    "    def wrapper(*args, **kwargs): \n",
    "        result = func(*args, **kwargs) \n",
    "        return result \n",
    "    return wrapper \n",
    "    \n",
    "def deco_without_wraps(func): \n",
    "    def wrapper(*args, **kwargs): \n",
    "        result = func(*args, **kwargs) \n",
    "        return result \n",
    "    return wrapper \n",
    "\n",
    "@deco_with_wraps\n",
    "def test_1(a, b): \n",
    "    return a + b \n",
    "    \n",
    "@deco_without_wraps\n",
    "def test_2(a, b): \n",
    "    return a + b \n",
    "\n",
    "print(test_1.__name__)\n",
    "print(test_2.__name__)"
   ]
  },
  {
   "cell_type": "code",
   "execution_count": 11,
   "metadata": {},
   "outputs": [
    {
     "name": "stdout",
     "output_type": "stream",
     "text": [
      "test\n"
     ]
    }
   ],
   "source": [
    "# metadata problem\n",
    "from functools import wraps\n",
    "\n",
    "def deco_with_wraps(func):\n",
    "    @wraps(func)\n",
    "    def wrapper(*args, **kwargs):\n",
    "        result = func(*args, **kwargs)\n",
    "        return result\n",
    "    return wrapper\n",
    "\n",
    "@deco_with_wraps\n",
    "def test(a, b):\n",
    "    return a + b\n",
    "\n",
    "print(test.__name__)"
   ]
  },
  {
   "cell_type": "code",
   "execution_count": 13,
   "metadata": {},
   "outputs": [
    {
     "data": {
      "text/plain": [
       "'HELLO, WORLD!'"
      ]
     },
     "execution_count": 13,
     "metadata": {},
     "output_type": "execute_result"
    }
   ],
   "source": [
    "# 编写一个装饰器，将函数返回的字符串全部转为大写\n",
    "def to_upper(func: Callable[..., str]):\n",
    "    def wrapper(*args, **kwargs):\n",
    "        ret = func().upper()\n",
    "        return ret\n",
    "    return wrapper\n",
    "\n",
    "@to_upper\n",
    "def hello_world():\n",
    "    return 'hello, world!'\n",
    "    \n",
    "hello_world()  \n",
    "\n"
   ]
  },
  {
   "cell_type": "code",
   "execution_count": 16,
   "metadata": {},
   "outputs": [
    {
     "ename": "ValueError",
     "evalue": "参数 d=-1 不大于0.",
     "output_type": "error",
     "traceback": [
      "\u001b[1;31m---------------------------------------------------------------------------\u001b[0m",
      "\u001b[1;31mValueError\u001b[0m                                Traceback (most recent call last)",
      "Cell \u001b[1;32mIn[16], line 18\u001b[0m\n\u001b[0;32m     14\u001b[0m \u001b[38;5;129m@validate_positive\u001b[39m\n\u001b[0;32m     15\u001b[0m \u001b[38;5;28;01mdef\u001b[39;00m \u001b[38;5;21mtest\u001b[39m(a, b, \u001b[38;5;241m*\u001b[39m, d):\n\u001b[0;32m     16\u001b[0m     \u001b[38;5;28mprint\u001b[39m(a, b, d)\n\u001b[1;32m---> 18\u001b[0m test(\u001b[38;5;241m1\u001b[39m, \u001b[38;5;124m\"\u001b[39m\u001b[38;5;124mhaha\u001b[39m\u001b[38;5;124m\"\u001b[39m, d\u001b[38;5;241m=\u001b[39m\u001b[38;5;241m-\u001b[39m\u001b[38;5;241m1\u001b[39m)\n",
      "Cell \u001b[1;32mIn[16], line 9\u001b[0m, in \u001b[0;36mvalidate_positive.<locals>.wrapper\u001b[1;34m(*args, **kwargs)\u001b[0m\n\u001b[0;32m      7\u001b[0m \u001b[38;5;28;01mfor\u001b[39;00m k, v \u001b[38;5;129;01min\u001b[39;00m kwargs\u001b[38;5;241m.\u001b[39mitems():\n\u001b[0;32m      8\u001b[0m     \u001b[38;5;28;01mif\u001b[39;00m \u001b[38;5;28misinstance\u001b[39m(v, (\u001b[38;5;28mint\u001b[39m, \u001b[38;5;28mfloat\u001b[39m)) \u001b[38;5;129;01mand\u001b[39;00m v \u001b[38;5;241m<\u001b[39m\u001b[38;5;241m=\u001b[39m \u001b[38;5;241m0\u001b[39m:\n\u001b[1;32m----> 9\u001b[0m         \u001b[38;5;28;01mraise\u001b[39;00m \u001b[38;5;167;01mValueError\u001b[39;00m(\u001b[38;5;124mf\u001b[39m\u001b[38;5;124m\"\u001b[39m\u001b[38;5;124m参数 \u001b[39m\u001b[38;5;132;01m{\u001b[39;00mk\u001b[38;5;132;01m}\u001b[39;00m\u001b[38;5;124m=\u001b[39m\u001b[38;5;132;01m{\u001b[39;00mv\u001b[38;5;132;01m}\u001b[39;00m\u001b[38;5;124m 不大于0.\u001b[39m\u001b[38;5;124m\"\u001b[39m)\n\u001b[0;32m     10\u001b[0m \u001b[38;5;28;01mreturn\u001b[39;00m func(\u001b[38;5;241m*\u001b[39margs, \u001b[38;5;241m*\u001b[39m\u001b[38;5;241m*\u001b[39mkwargs)\n",
      "\u001b[1;31mValueError\u001b[0m: 参数 d=-1 不大于0."
     ]
    }
   ],
   "source": [
    "# 创建一个装饰器，在函数执行前验证所有数字参数必须大于0\n",
    "def validate_positive(func: Callable):\n",
    "    def wrapper(*args, **kwargs):\n",
    "        for arg in args:\n",
    "            if isinstance(arg, (int, float)) and arg <= 0:\n",
    "                raise ValueError(f\"参数 {arg} 不大于0.\")\n",
    "        for k, v in kwargs.items():\n",
    "            if isinstance(v, (int, float)) and v <= 0:\n",
    "                raise ValueError(f\"参数 {k}={v} 不大于0.\")\n",
    "        return func(*args, **kwargs)\n",
    "        \n",
    "    return wrapper\n",
    "\n",
    "@validate_positive\n",
    "def test(a, b, *, d):\n",
    "    print(a, b, d)\n",
    "\n",
    "test(1, \"haha\", d=-1)"
   ]
  },
  {
   "cell_type": "code",
   "execution_count": null,
   "metadata": {},
   "outputs": [
    {
     "name": "stdout",
     "output_type": "stream",
     "text": [
      "ValueError: 看来您运气不佳。\n",
      "test 执行失败。正在重试…… 第 1 次\n",
      "ValueError: 看来您运气不佳。\n",
      "test 执行失败。正在重试…… 第 2 次\n"
     ]
    },
    {
     "data": {
      "text/plain": [
       "6"
      ]
     },
     "execution_count": 22,
     "metadata": {},
     "output_type": "execute_result"
    }
   ],
   "source": [
    "# 实现一个装饰器，当函数抛出指定异常时自动重试最多3次\n",
    "from time import sleep\n",
    "from random import randint\n",
    "from typing import Callable\n",
    "\n",
    "def retry(exception: Exception, max_attempts: int = 3):\n",
    "    def decorator(func: Callable):\n",
    "        def wrapper(*args, **kwargs):\n",
    "            attempts = 0\n",
    "            while attempts < max_attempts:\n",
    "                try:\n",
    "                    # simulate processing time\n",
    "                    sleep(1)\n",
    "                    return func()\n",
    "                except exception as e:\n",
    "                    attempts += 1\n",
    "                    print(f\"{type(e).__name__}: {e}\")\n",
    "                    print(f\"{func.__name__} 执行失败。正在重试…… 第 {attempts} 次\")\n",
    "            raise ValueError(f\"{func.__name__}执行失败。达到最大尝试次数。\")\n",
    "            \n",
    "        return wrapper\n",
    "    return decorator\n",
    "    \n",
    "    \n",
    "@retry(ValueError, max_attempts=5)\n",
    "def test():\n",
    "    if (ret := randint(0, 9)) < 5:\n",
    "        raise ValueError(\"看来您运气不佳。\")\n",
    "    else:\n",
    "        return ret\n",
    "    \n",
    "test()\n",
    "    "
   ]
  },
  {
   "cell_type": "code",
   "execution_count": 23,
   "metadata": {},
   "outputs": [
    {
     "name": "stdout",
     "output_type": "stream",
     "text": [
      "PREFIX: hello, world  - suffix\n"
     ]
    }
   ],
   "source": [
    "# 编写一个装饰器，可以指定前缀和后缀来包装函数输出\n",
    "def add_prefix_suffix(prefix: str = \"\", suffix: str = \"\"):\n",
    "    def decorator(func: Callable):\n",
    "        def wrapper(*args, **kwargs):            \n",
    "            ret = func()\n",
    "            return f\"{prefix}{ret}{suffix}\"\n",
    "        return wrapper\n",
    "    return decorator\n",
    "\n",
    "@add_prefix_suffix(prefix=\"PREFIX: \", suffix=\"  - suffix\")\n",
    "def test():\n",
    "    return \"hello, world\"\n",
    "\n",
    "print(test())\n"
   ]
  },
  {
   "cell_type": "code",
   "execution_count": 1,
   "metadata": {},
   "outputs": [
    {
     "name": "stdout",
     "output_type": "stream",
     "text": [
      "更新缓存值\n",
      "读取缓存值\n",
      "更新缓存值\n"
     ]
    },
    {
     "data": {
      "text/plain": [
       "6"
      ]
     },
     "execution_count": 1,
     "metadata": {},
     "output_type": "execute_result"
    }
   ],
   "source": [
    "# 创建一个缓存装饰器，可以设置缓存过期时间(秒)\n",
    "# 那是得用惰性删除策略了\n",
    "from typing import Union, Callable\n",
    "from datetime import datetime, timedelta\n",
    "from time import sleep\n",
    "from functools import wraps\n",
    "import inspect\n",
    "\n",
    "# def cached(ttl: Union[int, float] = 30):\n",
    "#     def decorator(func: Callable):\n",
    "#         cache = {}\n",
    "#         def wrapper(*args, **kwargs):\n",
    "#             # 但是这样对复杂对象参数有点不太友好。hash一下？但是能保证参数是Hashable吗？\n",
    "#             args_comb = \"&\".join(\n",
    "#                 [str(arg) for arg in args] + [f\"{k}={v}\" for k, v in kwargs.items()])\n",
    "#             if cache.get(args_comb, None) is not None and datetime.now() < cache[args_comb]['expired']:\n",
    "#                 print(\"读取缓存值\")\n",
    "#             else:\n",
    "#                 print(\"更新缓存值\")\n",
    "#                 cache[args_comb] = {\n",
    "#                     \"value\": func(*args, **kwargs),\n",
    "#                     \"expired\": datetime.now() + timedelta(seconds=ttl)\n",
    "#                 }\n",
    "#             return cache[args_comb]['value']\n",
    "                \n",
    "#         return wrapper\n",
    "#     return decorator\n",
    "\n",
    "def cached(ttl: Union[int, float] = 30):\n",
    "    def decorator(func: Callable):\n",
    "        cache = {}\n",
    "        @wraps(func)\n",
    "        def wrapper(*args, **kwargs):\n",
    "            sig = inspect.signature(func)\n",
    "            bound_args = sig.bind(*args, **kwargs)\n",
    "            bound_args.apply_defaults()\n",
    "            \n",
    "            args_key = (bound_args.args, frozenset(bound_args.kwargs.items()))\n",
    "            \n",
    "            if cache.get(args_key, None) is not None and datetime.now() < cache[args_key]['expired']:\n",
    "                print(\"读取缓存值\")\n",
    "            else:\n",
    "                print(\"更新缓存值\")\n",
    "                cache[args_key] = {\n",
    "                    \"value\": func(*args, **kwargs),\n",
    "                    \"expired\": datetime.now() + timedelta(seconds=ttl)\n",
    "                }\n",
    "            return cache[args_key]['value']\n",
    "                \n",
    "        return wrapper\n",
    "    return decorator\n",
    "\n",
    "@cached(ttl=3)\n",
    "def test(a, b):\n",
    "    return a * b\n",
    "\n",
    "\n",
    "test(2, 3)\n",
    "test(2, 3)\n",
    "sleep(3)\n",
    "test(2, 3)"
   ]
  },
  {
   "cell_type": "code",
   "execution_count": 27,
   "metadata": {},
   "outputs": [
    {
     "name": "stdout",
     "output_type": "stream",
     "text": [
      "2025-04-11 02:50:57.331164\n",
      "2025-04-11 02:51:27.331164\n",
      "True\n"
     ]
    }
   ],
   "source": [
    "from datetime import datetime, timedelta\n",
    "\n",
    "cur = datetime.now()\n",
    "print(cur)\n",
    "print(cur + timedelta(seconds=30))\n",
    "print(cur < (cur + timedelta(seconds=30)))"
   ]
  },
  {
   "cell_type": "code",
   "execution_count": null,
   "metadata": {},
   "outputs": [
    {
     "ename": "RuntimeError",
     "evalue": "不在函数可执行时间（2025/04/11 03:10:23 ~ 2025/04/11 03:10:53）内",
     "output_type": "error",
     "traceback": [
      "\u001b[1;31m---------------------------------------------------------------------------\u001b[0m",
      "\u001b[1;31mRuntimeError\u001b[0m                              Traceback (most recent call last)",
      "Cell \u001b[1;32mIn[45], line 21\u001b[0m\n\u001b[0;32m     16\u001b[0m \u001b[38;5;129m@limit_time_range\u001b[39m(datetime\u001b[38;5;241m.\u001b[39mnow() \u001b[38;5;241m-\u001b[39m timedelta(seconds\u001b[38;5;241m=\u001b[39m\u001b[38;5;241m30\u001b[39m), datetime\u001b[38;5;241m.\u001b[39mnow())\n\u001b[0;32m     17\u001b[0m \u001b[38;5;66;03m# @limit_time_range(datetime.now(), datetime.now() + timedelta(seconds=30))\u001b[39;00m\n\u001b[0;32m     18\u001b[0m \u001b[38;5;28;01mdef\u001b[39;00m \u001b[38;5;21mtest\u001b[39m():\n\u001b[0;32m     19\u001b[0m     \u001b[38;5;28;01mreturn\u001b[39;00m \u001b[38;5;124m\"\u001b[39m\u001b[38;5;124mhello, world\u001b[39m\u001b[38;5;124m\"\u001b[39m\n\u001b[1;32m---> 21\u001b[0m \u001b[38;5;28mprint\u001b[39m(test())\n",
      "Cell \u001b[1;32mIn[45], line 12\u001b[0m, in \u001b[0;36mlimit_time_range.<locals>.decorator.<locals>.wrapper\u001b[1;34m(*args, **kwargs)\u001b[0m\n\u001b[0;32m     10\u001b[0m \u001b[38;5;28;01melse\u001b[39;00m:\n\u001b[0;32m     11\u001b[0m     format_str \u001b[38;5;241m=\u001b[39m \u001b[38;5;124m\"\u001b[39m\u001b[38;5;124m%\u001b[39m\u001b[38;5;124mY/\u001b[39m\u001b[38;5;124m%\u001b[39m\u001b[38;5;124mm/\u001b[39m\u001b[38;5;132;01m%d\u001b[39;00m\u001b[38;5;124m \u001b[39m\u001b[38;5;124m%\u001b[39m\u001b[38;5;124mH:\u001b[39m\u001b[38;5;124m%\u001b[39m\u001b[38;5;124mM:\u001b[39m\u001b[38;5;124m%\u001b[39m\u001b[38;5;124mS\u001b[39m\u001b[38;5;124m\"\u001b[39m\n\u001b[1;32m---> 12\u001b[0m     \u001b[38;5;28;01mraise\u001b[39;00m \u001b[38;5;167;01mRuntimeError\u001b[39;00m(\u001b[38;5;124mf\u001b[39m\u001b[38;5;124m\"\u001b[39m\u001b[38;5;124m不在函数可执行时间（\u001b[39m\u001b[38;5;132;01m{\u001b[39;00mstart\u001b[38;5;241m.\u001b[39mstrftime(format_str)\u001b[38;5;132;01m}\u001b[39;00m\u001b[38;5;124m ~ \u001b[39m\u001b[38;5;132;01m{\u001b[39;00mend\u001b[38;5;241m.\u001b[39mstrftime(format_str)\u001b[38;5;132;01m}\u001b[39;00m\u001b[38;5;124m）内\u001b[39m\u001b[38;5;124m\"\u001b[39m)\n",
      "\u001b[1;31mRuntimeError\u001b[0m: 不在函数可执行时间（2025/04/11 03:10:23 ~ 2025/04/11 03:10:53）内"
     ]
    },
    {
     "ename": "",
     "evalue": "",
     "output_type": "error",
     "traceback": [
      "\u001b[1;31mThe Kernel crashed while executing code in the current cell or a previous cell. \n",
      "\u001b[1;31mPlease review the code in the cell(s) to identify a possible cause of the failure. \n",
      "\u001b[1;31mClick <a href='https://aka.ms/vscodeJupyterKernelCrash'>here</a> for more info. \n",
      "\u001b[1;31mView Jupyter <a href='command:jupyter.viewOutput'>log</a> for further details."
     ]
    }
   ],
   "source": [
    "# 实现一个装饰器，可以限制函数在特定时间段内才能执行\n",
    "from datetime import datetime\n",
    "\n",
    "    \n",
    "def limit_time_range(start: datetime, end: datetime):\n",
    "    def decorator(func: Callable):\n",
    "        def wrapper(*args, **kwargs):\n",
    "            if start < datetime.now() < end:\n",
    "                return func(*args, **kwargs)\n",
    "            else:\n",
    "                format_str = \"%Y/%m/%d %H:%M:%S\"\n",
    "                raise RuntimeError(f\"不在函数可执行时间（{start.strftime(format_str)} ~ {end.strftime(format_str)}）内\")\n",
    "        return wrapper\n",
    "    return decorator\n",
    "\n",
    "@limit_time_range(datetime.now() - timedelta(seconds=30), datetime.now())\n",
    "# @limit_time_range(datetime.now(), datetime.now() + timedelta(seconds=30))\n",
    "def test():\n",
    "    return \"hello, world\"\n",
    "\n",
    "print(test())\n",
    "\n",
    "\n",
    "    "
   ]
  },
  {
   "cell_type": "code",
   "execution_count": 4,
   "metadata": {},
   "outputs": [
    {
     "name": "stdout",
     "output_type": "stream",
     "text": [
      "32\n"
     ]
    }
   ],
   "source": [
    "def double_result(func):\n",
    "    def wrapper(*args, **kwargs):\n",
    "        return func(*args, **kwargs) * 2\n",
    "    return wrapper\n",
    "\n",
    "def add_one(func):\n",
    "    def wrapper(*args, **kwargs):\n",
    "        return func(*args, **kwargs) + 1\n",
    "    return wrapper\n",
    "\n",
    "@double_result\n",
    "@add_one\n",
    "def calculate(x):\n",
    "    return x * 3\n",
    "\n",
    "# 期望: (x*3 + 1) * 2\n",
    "print(calculate(5))  # 当前输出是什么？如何修正？"
   ]
  }
 ],
 "metadata": {
  "kernelspec": {
   "display_name": "study",
   "language": "python",
   "name": "python3"
  },
  "language_info": {
   "codemirror_mode": {
    "name": "ipython",
    "version": 3
   },
   "file_extension": ".py",
   "mimetype": "text/x-python",
   "name": "python",
   "nbconvert_exporter": "python",
   "pygments_lexer": "ipython3",
   "version": "3.13.2"
  }
 },
 "nbformat": 4,
 "nbformat_minor": 2
}
