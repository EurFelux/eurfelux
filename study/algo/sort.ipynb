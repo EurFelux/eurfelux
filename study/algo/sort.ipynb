{
 "cells": [
  {
   "cell_type": "code",
   "execution_count": null,
   "metadata": {},
   "outputs": [],
   "source": [
    "from sort import test_sort\n",
    "\n",
    "def quick_sort(nums):    \n",
    "    def hoare_partition(nums, start, end):\n",
    "        raise NotImplementedError\n",
    "        \n",
    "    def qs(nums, start, end):\n",
    "        raise NotImplementedError\n",
    "    \n",
    "    qs(nums, 0, len(nums))\n",
    "    return nums\n",
    "    \n",
    "test_sort(quick_sort)"
   ]
  },
  {
   "cell_type": "code",
   "execution_count": null,
   "metadata": {},
   "outputs": [],
   "source": []
  },
  {
   "cell_type": "code",
   "execution_count": null,
   "metadata": {},
   "outputs": [],
   "source": []
  }
 ],
 "metadata": {
  "kernelspec": {
   "display_name": "base",
   "language": "python",
   "name": "python3"
  },
  "language_info": {
   "codemirror_mode": {
    "name": "ipython",
    "version": 3
   },
   "file_extension": ".py",
   "mimetype": "text/x-python",
   "name": "python",
   "nbconvert_exporter": "python",
   "pygments_lexer": "ipython3",
   "version": "3.13.2"
  }
 },
 "nbformat": 4,
 "nbformat_minor": 2
}
